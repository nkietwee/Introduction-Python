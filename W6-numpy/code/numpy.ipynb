{
 "cells": [
  {
   "cell_type": "code",
   "execution_count": 3,
   "id": "fbe0a004",
   "metadata": {},
   "outputs": [],
   "source": [
    "import numpy as np"
   ]
  },
  {
   "cell_type": "code",
   "execution_count": 4,
   "id": "ad395a4c",
   "metadata": {},
   "outputs": [
    {
     "name": "stdout",
     "output_type": "stream",
     "text": [
      "1D np.array with list: [1 2 3]\n",
      "1D np.array with tuple: [1 2 3]\n",
      "2D np.array with list: \n",
      "[[1 2 3]\n",
      " [4 5 6]]\n",
      "2D np.array with tuple: \n",
      "[[1 2 3]\n",
      " [4 5 6]]\n",
      "np.array with zeros: \n",
      "[[0. 0. 0.]\n",
      " [0. 0. 0.]]\n",
      "np.array with ones: \n",
      "[[1. 1. 1. 1. 1.]\n",
      " [1. 1. 1. 1. 1.]\n",
      " [1. 1. 1. 1. 1.]]\n",
      "np.array with range of numbers: [0 2 4 6 8]\n",
      "np.array with evenly spaced values: [0.   0.25 0.5  0.75 1.  ]\n"
     ]
    }
   ],
   "source": [
    "# Creates a NumPy array from a Python sequence such as list or tuple.\n",
    "a = np.array([1, 2, 3]) \n",
    "b = np.array((1, 2, 3), dtype=np.int16) # define type of data\n",
    "\n",
    "# Creates 2D NumPy array from a Python sequence such as list or tuple.\n",
    "c = np.array([[1, 2, 3], [4, 5, 6]])\n",
    "d = np.array(((1, 2, 3), (4, 5, 6)))\n",
    "\n",
    "e = np.zeros((2, 3))       # Create an Array of Zeros\n",
    "f = np.ones((3, 5))        # Create an Array of Ones\n",
    "g = np.arange(0, 10, 2)    # Create a Range of Values\n",
    "h = np.linspace(0, 1, 5)   # Create Evenly Spaced Values\n",
    "\n",
    "print(f'1D np.array with list: {a}')\n",
    "print(f'1D np.array with tuple: {b}')\n",
    "print(f'2D np.array with list: \\n{c}')\n",
    "print(f'2D np.array with tuple: \\n{d}')\n",
    "print(f'np.array with zeros: \\n{e}')\n",
    "print(f'np.array with ones: \\n{f}')\n",
    "print(f'np.array with range of numbers: {g}')\n",
    "print(f'np.array with evenly spaced values: {h}')"
   ]
  },
  {
   "cell_type": "code",
   "execution_count": 5,
   "id": "927e2c93",
   "metadata": {},
   "outputs": [
    {
     "name": "stdout",
     "output_type": "stream",
     "text": [
      "(2, 3)\n",
      "dtype of a: int64\n",
      "9\n",
      "dtype of ones_array: float64\n"
     ]
    }
   ],
   "source": [
    "# Create a 2D NumPy array (2 rows, 3 columns) from a tuple of tuples\n",
    "# dtype is inferred as int64 (or int32 depending on your platform)\n",
    "a = np.array(((1, 2, 3), (4, 5, 6)))\n",
    "print(a.shape)  # Output: (2, 3) — means 2 rows and 3 columns\n",
    "print(f'dtype of a: {a.dtype}')  # e.g., int64\n",
    "\n",
    "# Create a 3x3 array filled with ones\n",
    "# Default dtype is float64 unless specified\n",
    "ones_array = np.ones((3, 3))\n",
    "print(ones_array.size)  # Output: 9 — 3 rows * 3 columns = 9 elements\n",
    "print(f'dtype of ones_array: {ones_array.dtype}')  # float64"
   ]
  },
  {
   "cell_type": "code",
   "execution_count": 6,
   "id": "b5cb3633",
   "metadata": {},
   "outputs": [
    {
     "name": "stdout",
     "output_type": "stream",
     "text": [
      "Access row 0: [1 2 3]\n",
      "Access row 1 to end:\n",
      "[[4 5 6]\n",
      " [7 8 9]]\n",
      "Access element at (0,2): 3\n",
      "Access all rows, column 1: [2 5 8]\n",
      "Access row 1, first 2 columns: [4 5]\n",
      "Access full array:\n",
      "[[1 2 3]\n",
      " [4 5 6]\n",
      " [7 8 9]]\n",
      "Access top-left 1x2 block: [[1 2]]\n",
      "Access last row: [7 8 9]\n",
      "Boolean mask (a > 3):\n",
      "[[False False False]\n",
      " [ True  True  True]\n",
      " [ True  True  True]]\n",
      "Elements greater than 3: [4 5 6 7 8 9]\n"
     ]
    }
   ],
   "source": [
    "a = np.array([[1, 2, 3],\n",
    "              [4, 5, 6],\n",
    "              [7, 8, 9]])\n",
    "\n",
    "# [row, column]\n",
    "\n",
    "# Basic Indexing\n",
    "print(f'Access row 0: {a[0]}')\n",
    "print(f'Access row 1 to end:\\n{a[1:]}')\n",
    "print(f'Access element at (0,2): {a[0, 2]}')\n",
    "\n",
    "# Slicing\n",
    "print(f'Access all rows, column 1: {a[:, 1]}')\n",
    "print(f'Access row 1, first 2 columns: {a[1, :2]}')\n",
    "print(f'Access full array:\\n{a[:, :]}')\n",
    "print(f'Access top-left 1x2 block: {a[:1, :2]}')\n",
    "print(f'Access last row: {a[-1]}')\n",
    "\n",
    "# Boolean Indexing\n",
    "\n",
    "print(f'Boolean mask (a > 3):\\n{a > 3}')\n",
    "print(f'Elements greater than 3: {a[a > 3]}')"
   ]
  },
  {
   "cell_type": "code",
   "execution_count": 7,
   "id": "f376f193",
   "metadata": {},
   "outputs": [
    {
     "name": "stdout",
     "output_type": "stream",
     "text": [
      "a + b = [5 7 9]\n",
      "a - b = [-3 -3 -3]\n",
      "a * b = [ 4 10 18]\n",
      "a / b = [0.25 0.4  0.5 ]\n",
      "a ** 2 = [1 4 9]\n",
      "a * 2 = [2 4 6]\n",
      "Sum of b: 15\n",
      "Mean of b: 5.0\n",
      "Max of b: 6\n",
      "Min of b: 4\n",
      "Standard deviation of b: 0.8165\n",
      "Dot product of a and b: 32\n",
      "Concatenate a and b: [1 2 3 4 5 6]\n",
      "Sorted array: [1 3 5]\n",
      "a > 2: [False False  True]\n",
      "b == 5: [False  True False]\n"
     ]
    }
   ],
   "source": [
    "a = np.array([1, 2, 3])\n",
    "b = np.array([4, 5, 6])\n",
    "\n",
    "# Element-wise operations\n",
    "print(f\"a + b = {a + b}\")\n",
    "print(f\"a - b = {a - b}\")\n",
    "print(f\"a * b = {a * b}\")\n",
    "print(f\"a / b = {a / b}\")\n",
    "print(f\"a ** 2 = {a ** 2}\")\n",
    "print(f\"a * 2 = {a * 2}\")\n",
    "\n",
    "# Aggregation functions on b\n",
    "print(f\"Sum of b: {np.sum(b)}\")\n",
    "print(f\"Mean of b: {np.mean(b)}\")\n",
    "print(f\"Max of b: {np.max(b)}\")\n",
    "print(f\"Min of b: {np.min(b)}\")\n",
    "print(f\"Standard deviation of b: {np.std(b):.4f}\")\n",
    "\n",
    "# Dot product\n",
    "print(f\"Dot product of a and b: {np.dot(a, b)}\")\n",
    "\n",
    "# Concatenation\n",
    "print(f\"Concatenate a and b: {np.concatenate((a, b))}\")\n",
    "\n",
    "# Sorting\n",
    "unsorted = np.array([3, 1, 5])\n",
    "print(f\"Sorted array: {np.sort(unsorted)}\")\n",
    "\n",
    "# Comparisons\n",
    "print(f\"a > 2: {a > 2}\")\n",
    "print(f\"b == 5: {b == 5}\")"
   ]
  },
  {
   "cell_type": "code",
   "execution_count": 8,
   "id": "e09669e8",
   "metadata": {},
   "outputs": [
    {
     "name": "stdout",
     "output_type": "stream",
     "text": [
      "Original a: [0 1 2 3 4 5]\n",
      "Reshaped b (2x3):\n",
      "[[0 1 2]\n",
      " [3 4 5]]\n",
      "Flattened c: [0 1 2 3 4 5]\n"
     ]
    }
   ],
   "source": [
    "a = np.arange(6)                     # Create array: [0, 1, 2, 3, 4, 5]\n",
    "b = a.reshape((2, 3))                # Reshape into 2 rows × 3 columns\n",
    "c = b.flatten()                      # Flatten back to 1D\n",
    "\n",
    "print(f\"Original a: {a}\")\n",
    "print(f\"Reshaped b (2x3):\\n{b}\")\n",
    "print(f\"Flattened c: {c}\")"
   ]
  },
  {
   "cell_type": "code",
   "execution_count": 9,
   "id": "70b08c75",
   "metadata": {},
   "outputs": [
    {
     "name": "stdout",
     "output_type": "stream",
     "text": [
      "Vertical stack (vstack):\n",
      "[[1 2]\n",
      " [3 4]\n",
      " [5 6]]\n",
      "Horizontal stack (hstack):\n",
      "[[1 2 5]\n",
      " [3 4 6]]\n"
     ]
    }
   ],
   "source": [
    "a = np.array([[1, 2],\n",
    "              [3, 4]])\n",
    "\n",
    "b = np.array([[5, 6]])\n",
    "\n",
    "# Vertical stack: combine a and b row-wise\n",
    "v = np.vstack([a, b])\n",
    "\n",
    "# Horizontal stack: combine a and transpose of b column-wise\n",
    "h = np.hstack([a, b.T])\n",
    "\n",
    "print(f\"Vertical stack (vstack):\\n{v}\")\n",
    "print(f\"Horizontal stack (hstack):\\n{h}\")"
   ]
  },
  {
   "cell_type": "code",
   "execution_count": 10,
   "id": "b4dc91fb",
   "metadata": {},
   "outputs": [
    {
     "name": "stdout",
     "output_type": "stream",
     "text": [
      "Random floats (a): [0.37454012 0.95071431 0.73199394]\n",
      "Random integers (b):\n",
      "[[4 6 9]\n",
      " [2 6 7]]\n"
     ]
    }
   ],
   "source": [
    "np.random.seed(42)                  # Set seed for reproducibility\n",
    "\n",
    "a = np.random.rand(3)               # Generate 3 random floats between 0 and 1\n",
    "b = np.random.randint(0, 10, (2, 3)) # Generate 2x3 matrix of random integers between 0 and 9\n",
    "\n",
    "print(f\"Random floats (a): {a}\")\n",
    "print(f\"Random integers (b):\\n{b}\")"
   ]
  },
  {
   "cell_type": "code",
   "execution_count": 12,
   "id": "e1ddc320",
   "metadata": {},
   "outputs": [
    {
     "name": "stdout",
     "output_type": "stream",
     "text": [
      "List addition time: 0.05845 seconds\n",
      "NumPy addition time: 0.00135 seconds\n",
      "List mean: 50.01, time: 0.00282 seconds\n",
      "NumPy mean: 50.01, time: 0.00158 seconds\n",
      "List memory usage: 8448712 bytes (approx)\n",
      "NumPy memory usage: 8000000 bytes (exact)\n"
     ]
    }
   ],
   "source": [
    "import time\n",
    "import random\n",
    "\n",
    "# Set size for the large random data\n",
    "size = 1_000_000\n",
    "\n",
    "# Generate a Python list of random integers between 0 and 100 using a for loop\n",
    "python_list = []\n",
    "for _ in range(size):\n",
    "    python_list.append(random.randint(0, 100))\n",
    "\n",
    "# Convert Python list to a NumPy array for comparison\n",
    "numpy_array = np.array(python_list)\n",
    "\n",
    "# 1. Adding 1 to each element\n",
    "# Time the operation for Python list (slow, non-vectorized)\n",
    "start_time = time.time()\n",
    "python_list_result = []\n",
    "for x in python_list:\n",
    "    python_list_result.append(x + 1)\n",
    "end_time = time.time()\n",
    "print(f\"List addition time: {end_time - start_time:.5f} seconds\")\n",
    "\n",
    "# Time the operation for NumPy array (fast, vectorized)\n",
    "start_time = time.time()\n",
    "numpy_array_result = numpy_array + 1\n",
    "end_time = time.time()\n",
    "print(f\"NumPy addition time: {end_time - start_time:.5f} seconds\")\n",
    "\n",
    "# 2. Calculating the mean value\n",
    "# Calculate mean manually for Python list\n",
    "start_time = time.time()\n",
    "python_list_mean = sum(python_list) / len(python_list)\n",
    "end_time = time.time()\n",
    "print(f\"List mean: {python_list_mean:.2f}, time: {end_time - start_time:.5f} seconds\")\n",
    "\n",
    "# Calculate mean using NumPy's built-in method\n",
    "start_time = time.time()\n",
    "numpy_array_mean = np.mean(numpy_array)\n",
    "end_time = time.time()\n",
    "print(f\"NumPy mean: {numpy_array_mean:.2f}, time: {end_time - start_time:.5f} seconds\")\n",
    "\n",
    "# 3. Comparing memory usage\n",
    "# Display the memory size of the Python list\n",
    "print(f\"List memory usage: {python_list.__sizeof__()} bytes (approx)\")\n",
    "\n",
    "# Display the exact memory usage of the NumPy array\n",
    "print(f\"NumPy memory usage: {numpy_array.nbytes} bytes (exact)\")"
   ]
  },
  {
   "cell_type": "code",
   "execution_count": null,
   "id": "df7487b1",
   "metadata": {},
   "outputs": [],
   "source": []
  }
 ],
 "metadata": {
  "kernelspec": {
   "display_name": "Python 3 (ipykernel)",
   "language": "python",
   "name": "python3"
  }
 },
 "nbformat": 4,
 "nbformat_minor": 5
}
