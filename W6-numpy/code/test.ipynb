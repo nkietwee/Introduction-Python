{
 "cells": [
  {
   "cell_type": "code",
   "execution_count": 1,
   "id": "fbe0a004",
   "metadata": {},
   "outputs": [],
   "source": [
    "import numpy as np"
   ]
  },
  {
   "cell_type": "code",
   "execution_count": 2,
   "id": "d36ac501",
   "metadata": {},
   "outputs": [
    {
     "name": "stdout",
     "output_type": "stream",
     "text": [
      "[1, 2, 4, 1, 2, 4]\n"
     ]
    }
   ],
   "source": [
    "lst = [1, 2, 4]\n",
    "print(lst * 2)"
   ]
  },
  {
   "cell_type": "code",
   "execution_count": 4,
   "id": "40ec8fdd",
   "metadata": {},
   "outputs": [
    {
     "name": "stdout",
     "output_type": "stream",
     "text": [
      "[1 2 3]\n"
     ]
    }
   ],
   "source": [
    "np_arr = np.array([1, 2, 3])\n",
    "np_arr + 1\n",
    "print(np_arr)"
   ]
  },
  {
   "cell_type": "code",
   "execution_count": 5,
   "id": "04074cc6",
   "metadata": {},
   "outputs": [],
   "source": [
    "import numpy as np\n",
    "\n",
    "a = np.array([1, 2, 3])\n",
    "b = np.zeros((2, 3))\n",
    "c = np.ones((3, 3))\n",
    "d = np.arange(0, 10, 2)\n",
    "e = np.linspace(0, 1, 5)"
   ]
  },
  {
   "cell_type": "code",
   "execution_count": 6,
   "id": "d2be6b23",
   "metadata": {},
   "outputs": [
    {
     "name": "stdout",
     "output_type": "stream",
     "text": [
      "[1 2 3]\n",
      "[[0. 0. 0.]\n",
      " [0. 0. 0.]]\n",
      "[[1. 1. 1.]\n",
      " [1. 1. 1.]\n",
      " [1. 1. 1.]]\n",
      "[0 2 4 6 8]\n",
      "[0.   0.25 0.5  0.75 1.  ]\n"
     ]
    }
   ],
   "source": [
    "print(a)\n",
    "print(b)\n",
    "print(c)\n",
    "print(d)\n",
    "print(e)"
   ]
  },
  {
   "cell_type": "code",
   "execution_count": 7,
   "id": "026b2e8f",
   "metadata": {},
   "outputs": [],
   "source": [
    "c = np.ones((3, 5))"
   ]
  },
  {
   "cell_type": "code",
   "execution_count": 8,
   "id": "d8b41ea6",
   "metadata": {},
   "outputs": [
    {
     "name": "stdout",
     "output_type": "stream",
     "text": [
      "[[1. 1. 1. 1. 1.]\n",
      " [1. 1. 1. 1. 1.]\n",
      " [1. 1. 1. 1. 1.]]\n"
     ]
    }
   ],
   "source": [
    "print(c)"
   ]
  },
  {
   "cell_type": "code",
   "execution_count": 12,
   "id": "a24e2f96",
   "metadata": {},
   "outputs": [
    {
     "name": "stdout",
     "output_type": "stream",
     "text": [
      "[[1 2 3]\n",
      " [4 5 6]]\n"
     ]
    }
   ],
   "source": [
    "a = np.array([[1, 2, 3], [4, 5, 6]])\n",
    "print(a)"
   ]
  },
  {
   "cell_type": "code",
   "execution_count": 15,
   "id": "cd4c1133",
   "metadata": {},
   "outputs": [
    {
     "name": "stdout",
     "output_type": "stream",
     "text": [
      "[[1 2 3]\n",
      " [4 5 6]]\n"
     ]
    }
   ],
   "source": [
    "a = np.array(((1, 2, 3,), (4, 5, 6)))\n",
    "print(a)"
   ]
  },
  {
   "cell_type": "code",
   "execution_count": 17,
   "id": "b99835ab",
   "metadata": {},
   "outputs": [
    {
     "data": {
      "text/plain": [
       "array([[1, 2, 3],\n",
       "       [4, 5, 6]])"
      ]
     },
     "execution_count": 17,
     "metadata": {},
     "output_type": "execute_result"
    }
   ],
   "source": [
    "np.array(((1, 2, 3), (4, 5, 6)))"
   ]
  },
  {
   "cell_type": "code",
   "execution_count": 19,
   "id": "aeda47b8",
   "metadata": {},
   "outputs": [
    {
     "data": {
      "text/plain": [
       "(2, 3)"
      ]
     },
     "execution_count": 19,
     "metadata": {},
     "output_type": "execute_result"
    }
   ],
   "source": [
    "a = np.array(((1, 2, 3,), (4, 5, 6)))\n",
    "a.shape"
   ]
  },
  {
   "cell_type": "code",
   "execution_count": 20,
   "id": "d23a41a7",
   "metadata": {},
   "outputs": [
    {
     "data": {
      "text/plain": [
       "9"
      ]
     },
     "execution_count": 20,
     "metadata": {},
     "output_type": "execute_result"
    }
   ],
   "source": [
    "np.ones((3, 3)).size"
   ]
  },
  {
   "cell_type": "code",
   "execution_count": 22,
   "id": "da2eb8d6",
   "metadata": {},
   "outputs": [
    {
     "data": {
      "text/plain": [
       "array([1, 2, 3])"
      ]
     },
     "execution_count": 22,
     "metadata": {},
     "output_type": "execute_result"
    }
   ],
   "source": [
    "a = np.array([[1, 2, 3], [4, 5, 6]])\n",
    "a[0]"
   ]
  },
  {
   "cell_type": "code",
   "execution_count": 23,
   "id": "f2b0a990",
   "metadata": {},
   "outputs": [
    {
     "name": "stdout",
     "output_type": "stream",
     "text": [
      "[1 2 3] [1 2 3] [[1 2 3]\n",
      " [4 5 6]] [[1 2 3]\n",
      " [4 5 6]] [[0. 0. 0.]\n",
      " [0. 0. 0.]] [[1. 1. 1. 1. 1.]\n",
      " [1. 1. 1. 1. 1.]\n",
      " [1. 1. 1. 1. 1.]] [0 2 4 6 8] [0.   0.25 0.5  0.75 1.  ]\n"
     ]
    }
   ],
   "source": [
    "# Creates a NumPy array from a Python sequence such as list tuple.\n",
    "a = np.array([1, 2, 3]) \n",
    "b = np.array((1, 2, 3))\n",
    "\n",
    "# Creates 2D NumPy array from a Python sequence such as list tuple.\n",
    "c = np.array([[1, 2, 3], [4, 5, 6]])\n",
    "d = np.array(((1, 2, 3,), (4, 5, 6)))\n",
    "\n",
    "e = np.zeros((2, 3)) #Create an Array of Zeros\n",
    "f = np.ones((3, 5)) #Create an Array of Ones\n",
    "g = np.arange(0, 10, 2) #Create a Range of Values\n",
    "h = np.linspace(0, 1, 5) #Create Evenly Spaced Values\n",
    "\n",
    "print(a, b, c, d, e, f, g, h)\n"
   ]
  },
  {
   "cell_type": "code",
   "execution_count": 24,
   "id": "8240f154",
   "metadata": {},
   "outputs": [
    {
     "name": "stdout",
     "output_type": "stream",
     "text": [
      "1D np.array with list: [1 2 3]\n",
      "1D np.array with tuple: [1 2 3]\n",
      "2D np.array with list: \n",
      "[[1 2 3]\n",
      " [4 5 6]]\n",
      "2D np.array with tuple: \n",
      "[[1 2 3]\n",
      " [4 5 6]]\n",
      "np.array with zeros: \n",
      "[[0. 0. 0.]\n",
      " [0. 0. 0.]]\n",
      "np.array with ones: \n",
      "[[1. 1. 1. 1. 1.]\n",
      " [1. 1. 1. 1. 1.]\n",
      " [1. 1. 1. 1. 1.]]\n",
      "np.array with range of numbers: [0 2 4 6 8]\n",
      "np.array with evenly spaced values: [0.   0.25 0.5  0.75 1.  ]\n"
     ]
    }
   ],
   "source": [
    "# Creates a NumPy array from a Python sequence such as list or tuple.\n",
    "a = np.array([1, 2, 3]) \n",
    "b = np.array((1, 2, 3))\n",
    "\n",
    "# Creates 2D NumPy array from a Python sequence such as list or tuple.\n",
    "c = np.array([[1, 2, 3], [4, 5, 6]])\n",
    "d = np.array(((1, 2, 3), (4, 5, 6)))\n",
    "\n",
    "e = np.zeros((2, 3))       # Create an Array of Zeros\n",
    "f = np.ones((3, 5))        # Create an Array of Ones\n",
    "g = np.arange(0, 10, 2)    # Create a Range of Values\n",
    "h = np.linspace(0, 1, 5)   # Create Evenly Spaced Values\n",
    "\n",
    "print(f'1D np.array with list: {a}')\n",
    "print(f'1D np.array with tuple: {b}')\n",
    "print(f'2D np.array with list: \\n{c}')\n",
    "print(f'2D np.array with tuple: \\n{d}')\n",
    "print(f'np.array with zeros: \\n{e}')\n",
    "print(f'np.array with ones: \\n{f}')\n",
    "print(f'np.array with range of numbers: {g}')\n",
    "print(f'np.array with evenly spaced values: {h}')"
   ]
  },
  {
   "cell_type": "code",
   "execution_count": 25,
   "id": "1df0325d",
   "metadata": {},
   "outputs": [
    {
     "name": "stdout",
     "output_type": "stream",
     "text": [
      "(2, 3)\n",
      "9\n"
     ]
    }
   ],
   "source": [
    "import numpy as np\n",
    "\n",
    "# Create a 2D NumPy array (2 rows, 3 columns) from a tuple of tuples\n",
    "a = np.array(((1, 2, 3), (4, 5, 6)))\n",
    "\n",
    "# Check the shape of the array: (rows, columns)\n",
    "print(a.shape)  # Output: (2, 3) — means 2 rows and 3 columns\n",
    "\n",
    "# Create a 3x3 array filled with ones\n",
    "# .size gives the total number of elements in the array\n",
    "print(np.ones((3, 3)).size)  # Output: 9 — 3 rows * 3 columns = 9 elements\n"
   ]
  },
  {
   "cell_type": "code",
   "execution_count": 28,
   "id": "0fcacf0c",
   "metadata": {},
   "outputs": [
    {
     "name": "stdout",
     "output_type": "stream",
     "text": [
      "1D np.array with list: [1 2 3]\n",
      "1D np.array with tuple: [1 2 3]\n"
     ]
    }
   ],
   "source": [
    "# Creates a NumPy array from a Python sequence such as list or tuple.\n",
    "a = np.array([1, 2, 3]) \n",
    "b = np.array((1, 2, 3),  dtype=np.int16)\n",
    "\n",
    "# Creates 2D NumPy array from a Python sequence such as list or tuple.\n",
    "c = np.array([[1, 2, 3], [4, 5, 6]])\n",
    "d = np.array(((1, 2, 3), (4, 5, 6)))\n",
    "\n",
    "e = np.zeros((2, 3))       # Create an Array of Zeros\n",
    "f = np.ones((3, 5))        # Create an Array of Ones\n",
    "g = np.arange(0, 10, 2)    # Create a Range of Values\n",
    "h = np.linspace(0, 1, 5)   # Create Evenly Spaced Values\n",
    "\n",
    "print(f'1D np.array with list: {a}')\n",
    "print(f'1D np.array with tuple: {b}')\n",
    "# print(f'2D np.array with list: \\n{c}')\n",
    "# print(f'2D np.array with tuple: \\n{d}')\n",
    "# print(f'np.array with zeros: \\n{e}')\n",
    "# print(f'np.array with ones: \\n{f}')\n",
    "# print(f'np.array with range of numbers: {g}')\n",
    "# print(f'np.array with evenly spaced values: {h}')\n"
   ]
  },
  {
   "cell_type": "code",
   "execution_count": 32,
   "id": "6d33f7a3",
   "metadata": {},
   "outputs": [
    {
     "data": {
      "text/plain": [
       "numpy.dtype[int64]"
      ]
     },
     "execution_count": 32,
     "metadata": {},
     "output_type": "execute_result"
    }
   ],
   "source": [
    "type(a.dtype)"
   ]
  },
  {
   "cell_type": "code",
   "execution_count": 33,
   "id": "fc92a669",
   "metadata": {},
   "outputs": [
    {
     "data": {
      "text/plain": [
       "numpy.dtype[int16]"
      ]
     },
     "execution_count": 33,
     "metadata": {},
     "output_type": "execute_result"
    }
   ],
   "source": [
    "type(b.dtype)"
   ]
  },
  {
   "cell_type": "code",
   "execution_count": 34,
   "id": "3381f320",
   "metadata": {},
   "outputs": [
    {
     "data": {
      "text/plain": [
       "array([4, 5])"
      ]
     },
     "execution_count": 34,
     "metadata": {},
     "output_type": "execute_result"
    }
   ],
   "source": [
    "a = np.array([[1, 2, 3], [4, 5, 6]])\n",
    "\n",
    "# np_arr[row, col]\n",
    "a[0] # Accesses the element at row 0\n",
    "a[:, 1]\n",
    "a[1, :2]"
   ]
  },
  {
   "cell_type": "code",
   "execution_count": 52,
   "id": "29c666d8",
   "metadata": {},
   "outputs": [
    {
     "name": "stdout",
     "output_type": "stream",
     "text": [
      "Access row 0: [1 2 3]\n",
      "Access row 1 to end:\n",
      "[[4 5 6]\n",
      " [7 8 9]]\n",
      "Access element at (0,2): 3\n",
      "Access all rows, column 1: [2 5 8]\n",
      "Access row 1, first 2 columns: [4 5]\n",
      "Access full array:\n",
      "[[1 2 3]\n",
      " [4 5 6]\n",
      " [7 8 9]]\n",
      "Access top-left 1x2 block: [[1 2]]\n",
      "Access last row: [7 8 9]\n",
      "Boolean mask (a > 3):\n",
      "[[False False False]\n",
      " [ True  True  True]\n",
      " [ True  True  True]]\n",
      "Elements greater than 3: [4 5 6 7 8 9]\n"
     ]
    }
   ],
   "source": [
    "a = np.array([[1, 2, 3],\n",
    "              [4, 5, 6],\n",
    "              [7, 8, 9]])\n",
    "\n",
    "# [row, column]\n",
    "\n",
    "# Basic Indexing\n",
    "print(f'Access row 0: {a[0]}')\n",
    "print(f'Access row 1 to end:\\n{a[1:]}')\n",
    "print(f'Access element at (0,2): {a[0, 2]}')\n",
    "\n",
    "# Slicing\n",
    "print(f'Access all rows, column 1: {a[:, 1]}')\n",
    "print(f'Access row 1, first 2 columns: {a[1, :2]}')\n",
    "print(f'Access full array:\\n{a[:, :]}')\n",
    "print(f'Access top-left 1x2 block: {a[:1, :2]}')\n",
    "print(f'Access last row: {a[-1]}')\n",
    "\n",
    "# Boolean Indexing\n",
    "\n",
    "print(f'Boolean mask (a > 3):\\n{a > 3}')\n",
    "print(f'Elements greater than 3: {a[a > 3]}')"
   ]
  },
  {
   "cell_type": "code",
   "execution_count": 49,
   "id": "0d864172",
   "metadata": {},
   "outputs": [],
   "source": [
    "a = np.array([[1, 2, 3],\n",
    "              [4, 5, 6],\n",
    "              [7, 8, 9]])"
   ]
  },
  {
   "cell_type": "code",
   "execution_count": 50,
   "id": "67f23b0c",
   "metadata": {},
   "outputs": [
    {
     "data": {
      "text/plain": [
       "array([[False, False, False],\n",
       "       [ True,  True,  True],\n",
       "       [ True,  True,  True]])"
      ]
     },
     "execution_count": 50,
     "metadata": {},
     "output_type": "execute_result"
    }
   ],
   "source": [
    "a > 3"
   ]
  },
  {
   "cell_type": "code",
   "execution_count": 51,
   "id": "d9c78832",
   "metadata": {},
   "outputs": [
    {
     "data": {
      "text/plain": [
       "array([4, 5, 6, 7, 8, 9])"
      ]
     },
     "execution_count": 51,
     "metadata": {},
     "output_type": "execute_result"
    }
   ],
   "source": [
    "a[a > 3]"
   ]
  },
  {
   "cell_type": "code",
   "execution_count": null,
   "id": "a475bca5",
   "metadata": {},
   "outputs": [],
   "source": []
  }
 ],
 "metadata": {
  "kernelspec": {
   "display_name": "Python 3 (ipykernel)",
   "language": "python",
   "name": "python3"
  },
  "language_info": {
   "codemirror_mode": {
    "name": "ipython",
    "version": 3
   },
   "file_extension": ".py",
   "mimetype": "text/x-python",
   "name": "python",
   "nbconvert_exporter": "python",
   "pygments_lexer": "ipython3",
   "version": "3.10.12"
  }
 },
 "nbformat": 4,
 "nbformat_minor": 5
}
